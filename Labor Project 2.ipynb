{
 "cells": [
  {
   "cell_type": "markdown",
   "metadata": {},
   "source": [
    "##Dylan Keyer\n",
    "##11 December 2015\n",
    "###Differences-in-Differences Econometric Analysis of CPS Data for single women in the early-to-mid 1990s to examine the impact of the 1993 expansion of the Earned Income tax Credit (EITC)"
   ]
  },
  {
   "cell_type": "code",
   "execution_count": 5,
   "metadata": {
    "collapsed": true
   },
   "outputs": [],
   "source": [
    "import os\n",
    "os.chdir('C:\\Users\\dylan_000\\Downloads')\n",
    "import pandas as pd\n",
    "import numpy as np\n",
    "import re\n",
    "import ggplot\n",
    "import matplotlib.pyplot as plt\n",
    "import seaborn as sns\n",
    "import statsmodels as sm\n",
    "%matplotlib inline"
   ]
  },
  {
   "cell_type": "code",
   "execution_count": 6,
   "metadata": {
    "collapsed": false
   },
   "outputs": [
    {
     "data": {
      "text/html": [
       "<div>\n",
       "<table border=\"1\" class=\"dataframe\">\n",
       "  <thead>\n",
       "    <tr style=\"text-align: right;\">\n",
       "      <th></th>\n",
       "      <th>state</th>\n",
       "      <th>year</th>\n",
       "      <th>urate</th>\n",
       "      <th>children</th>\n",
       "      <th>nonwhite</th>\n",
       "      <th>finc</th>\n",
       "      <th>earn</th>\n",
       "      <th>age</th>\n",
       "      <th>ed</th>\n",
       "      <th>work</th>\n",
       "      <th>unearn</th>\n",
       "    </tr>\n",
       "  </thead>\n",
       "  <tbody>\n",
       "    <tr>\n",
       "      <th>0</th>\n",
       "      <td>11</td>\n",
       "      <td>1991</td>\n",
       "      <td>7.6</td>\n",
       "      <td>0</td>\n",
       "      <td>1</td>\n",
       "      <td>18714.3940</td>\n",
       "      <td>18714.39400</td>\n",
       "      <td>26</td>\n",
       "      <td>10</td>\n",
       "      <td>1</td>\n",
       "      <td>0.000000</td>\n",
       "    </tr>\n",
       "    <tr>\n",
       "      <th>1</th>\n",
       "      <td>12</td>\n",
       "      <td>1991</td>\n",
       "      <td>7.2</td>\n",
       "      <td>1</td>\n",
       "      <td>0</td>\n",
       "      <td>4838.5683</td>\n",
       "      <td>471.36564</td>\n",
       "      <td>22</td>\n",
       "      <td>9</td>\n",
       "      <td>1</td>\n",
       "      <td>4.367203</td>\n",
       "    </tr>\n",
       "    <tr>\n",
       "      <th>2</th>\n",
       "      <td>13</td>\n",
       "      <td>1991</td>\n",
       "      <td>6.4</td>\n",
       "      <td>2</td>\n",
       "      <td>0</td>\n",
       "      <td>8178.1938</td>\n",
       "      <td>0.00000</td>\n",
       "      <td>33</td>\n",
       "      <td>11</td>\n",
       "      <td>0</td>\n",
       "      <td>8.178194</td>\n",
       "    </tr>\n",
       "    <tr>\n",
       "      <th>3</th>\n",
       "      <td>14</td>\n",
       "      <td>1991</td>\n",
       "      <td>9.1</td>\n",
       "      <td>0</td>\n",
       "      <td>1</td>\n",
       "      <td>9369.5705</td>\n",
       "      <td>0.00000</td>\n",
       "      <td>43</td>\n",
       "      <td>11</td>\n",
       "      <td>0</td>\n",
       "      <td>9.369571</td>\n",
       "    </tr>\n",
       "    <tr>\n",
       "      <th>4</th>\n",
       "      <td>15</td>\n",
       "      <td>1991</td>\n",
       "      <td>8.6</td>\n",
       "      <td>3</td>\n",
       "      <td>1</td>\n",
       "      <td>14706.6080</td>\n",
       "      <td>14706.60800</td>\n",
       "      <td>23</td>\n",
       "      <td>7</td>\n",
       "      <td>1</td>\n",
       "      <td>0.000000</td>\n",
       "    </tr>\n",
       "  </tbody>\n",
       "</table>\n",
       "</div>"
      ],
      "text/plain": [
       "   state  year  urate  children  nonwhite        finc         earn  age  ed  \\\n",
       "0     11  1991    7.6         0         1  18714.3940  18714.39400   26  10   \n",
       "1     12  1991    7.2         1         0   4838.5683    471.36564   22   9   \n",
       "2     13  1991    6.4         2         0   8178.1938      0.00000   33  11   \n",
       "3     14  1991    9.1         0         1   9369.5705      0.00000   43  11   \n",
       "4     15  1991    8.6         3         1  14706.6080  14706.60800   23   7   \n",
       "\n",
       "   work    unearn  \n",
       "0     1  0.000000  \n",
       "1     1  4.367203  \n",
       "2     0  8.178194  \n",
       "3     0  9.369571  \n",
       "4     1  0.000000  "
      ]
     },
     "execution_count": 6,
     "metadata": {},
     "output_type": "execute_result"
    }
   ],
   "source": [
    "eitc = pd.read_excel('EITC.xls')\n",
    "eitc.head()"
   ]
  },
  {
   "cell_type": "code",
   "execution_count": 7,
   "metadata": {
    "collapsed": false
   },
   "outputs": [
    {
     "name": "stdout",
     "output_type": "stream",
     "text": [
      "The annual family income for whites is 16983.26 dollars, while the annual family income for nonwhites is 14106.64 dollars.\n"
     ]
    }
   ],
   "source": [
    "eitc.finc.mean()\n",
    "print 'The annual family income for whites is',round(eitc[eitc.nonwhite==0].finc.mean(),2),'dollars, while the annual family income for\\\n",
    " nonwhites is',round(eitc[eitc.nonwhite==1].finc.mean(),2),'dollars.'"
   ]
  },
  {
   "cell_type": "code",
   "execution_count": 29,
   "metadata": {
    "collapsed": false
   },
   "outputs": [
    {
     "data": {
      "image/png": "[encoded data removed]",
      "text/plain": [
       "<matplotlib.figure.Figure at 0x20164978>"
      ]
     },
     "metadata": {},
     "output_type": "display_data"
    }
   ],
   "source": [
    "sns.lmplot(x='ed',y=\"earn\",data=eitc,fit_reg=False).\\\n",
    "set(xlabel='Years of Education',ylabel='Annual Earnings');"
   ]
  },
  {
   "cell_type": "code",
   "execution_count": 18,
   "metadata": {
    "collapsed": false
   },
   "outputs": [
    {
     "data": {
      "image/png": "[encoded data removed]",
      "text/plain": [
       "<matplotlib.figure.Figure at 0x1fba1d68>"
      ]
     },
     "metadata": {},
     "output_type": "display_data"
    }
   ],
   "source": [
    "sns.barplot(x=eitc.children,y=eitc.finc,ci=None).\\\n",
    "set(xlabel='Number of Children', ylabel='Average Annual Family Income');"
   ]
  },
  {
   "cell_type": "code",
   "execution_count": 31,
   "metadata": {
    "collapsed": false
   },
   "outputs": [],
   "source": [
    "eitc.describe().to_csv('labor2.csv')"
   ]
  },
  {
   "cell_type": "code",
   "execution_count": 32,
   "metadata": {
    "collapsed": false
   },
   "outputs": [],
   "source": [
    "eitc[eitc.children==0].describe().to_csv('two_a.csv')\n",
    "eitc[eitc.children==1].describe().to_csv('two_b.csv')\n",
    "eitc[eitc.children>1].describe().to_csv('two_c.csv')"
   ]
  },
  {
   "cell_type": "markdown",
   "metadata": {},
   "source": [
    "###Create an earnings variable that is conditional upon the person being employed, meaning that their earnings are greater than zero."
   ]
  },
  {
   "cell_type": "code",
   "execution_count": 39,
   "metadata": {
    "collapsed": false
   },
   "outputs": [
    {
     "data": {
      "text/html": [
       "<div>\n",
       "<table border=\"1\" class=\"dataframe\">\n",
       "  <thead>\n",
       "    <tr style=\"text-align: right;\">\n",
       "      <th></th>\n",
       "      <th>state</th>\n",
       "      <th>year</th>\n",
       "      <th>urate</th>\n",
       "      <th>children</th>\n",
       "      <th>nonwhite</th>\n",
       "      <th>finc</th>\n",
       "      <th>earn</th>\n",
       "      <th>age</th>\n",
       "      <th>ed</th>\n",
       "      <th>work</th>\n",
       "      <th>unearn</th>\n",
       "      <th>earncon</th>\n",
       "    </tr>\n",
       "  </thead>\n",
       "  <tbody>\n",
       "    <tr>\n",
       "      <th>0</th>\n",
       "      <td>11</td>\n",
       "      <td>1991</td>\n",
       "      <td>7.6</td>\n",
       "      <td>0</td>\n",
       "      <td>1</td>\n",
       "      <td>18714.3940</td>\n",
       "      <td>18714.39400</td>\n",
       "      <td>26</td>\n",
       "      <td>10</td>\n",
       "      <td>1</td>\n",
       "      <td>0.000000</td>\n",
       "      <td>18714.39400</td>\n",
       "    </tr>\n",
       "    <tr>\n",
       "      <th>1</th>\n",
       "      <td>12</td>\n",
       "      <td>1991</td>\n",
       "      <td>7.2</td>\n",
       "      <td>1</td>\n",
       "      <td>0</td>\n",
       "      <td>4838.5683</td>\n",
       "      <td>471.36564</td>\n",
       "      <td>22</td>\n",
       "      <td>9</td>\n",
       "      <td>1</td>\n",
       "      <td>4.367203</td>\n",
       "      <td>471.36564</td>\n",
       "    </tr>\n",
       "    <tr>\n",
       "      <th>2</th>\n",
       "      <td>13</td>\n",
       "      <td>1991</td>\n",
       "      <td>6.4</td>\n",
       "      <td>2</td>\n",
       "      <td>0</td>\n",
       "      <td>8178.1938</td>\n",
       "      <td>0.00000</td>\n",
       "      <td>33</td>\n",
       "      <td>11</td>\n",
       "      <td>0</td>\n",
       "      <td>8.178194</td>\n",
       "      <td>NaN</td>\n",
       "    </tr>\n",
       "    <tr>\n",
       "      <th>3</th>\n",
       "      <td>14</td>\n",
       "      <td>1991</td>\n",
       "      <td>9.1</td>\n",
       "      <td>0</td>\n",
       "      <td>1</td>\n",
       "      <td>9369.5705</td>\n",
       "      <td>0.00000</td>\n",
       "      <td>43</td>\n",
       "      <td>11</td>\n",
       "      <td>0</td>\n",
       "      <td>9.369571</td>\n",
       "      <td>NaN</td>\n",
       "    </tr>\n",
       "    <tr>\n",
       "      <th>4</th>\n",
       "      <td>15</td>\n",
       "      <td>1991</td>\n",
       "      <td>8.6</td>\n",
       "      <td>3</td>\n",
       "      <td>1</td>\n",
       "      <td>14706.6080</td>\n",
       "      <td>14706.60800</td>\n",
       "      <td>23</td>\n",
       "      <td>7</td>\n",
       "      <td>1</td>\n",
       "      <td>0.000000</td>\n",
       "      <td>14706.60800</td>\n",
       "    </tr>\n",
       "  </tbody>\n",
       "</table>\n",
       "</div>"
      ],
      "text/plain": [
       "   state  year  urate  children  nonwhite        finc         earn  age  ed  \\\n",
       "0     11  1991    7.6         0         1  18714.3940  18714.39400   26  10   \n",
       "1     12  1991    7.2         1         0   4838.5683    471.36564   22   9   \n",
       "2     13  1991    6.4         2         0   8178.1938      0.00000   33  11   \n",
       "3     14  1991    9.1         0         1   9369.5705      0.00000   43  11   \n",
       "4     15  1991    8.6         3         1  14706.6080  14706.60800   23   7   \n",
       "\n",
       "   work    unearn      earncon  \n",
       "0     1  0.000000  18714.39400  \n",
       "1     1  4.367203    471.36564  \n",
       "2     0  8.178194          NaN  \n",
       "3     0  9.369571          NaN  \n",
       "4     1  0.000000  14706.60800  "
      ]
     },
     "execution_count": 39,
     "metadata": {},
     "output_type": "execute_result"
    }
   ],
   "source": [
    "eitc['earncon'] = [earn if earn > 0 else None for earn in eitc.earn]\n",
    "eitc.head()"
   ]
  },
  {
   "cell_type": "markdown",
   "metadata": {},
   "source": [
    "###Create treatment variable called 'ANYKIDS'; 1 if the woman has any children and 0 if she does not. Also create a binary variable ('POST93') to denote whether the woman's data is before or after the 1993 expansion of the Earned Income Tax Credit (EITC)"
   ]
  },
  {
   "cell_type": "code",
   "execution_count": 49,
   "metadata": {
    "collapsed": false
   },
   "outputs": [
    {
     "data": {
      "text/html": [
       "<div>\n",
       "<table border=\"1\" class=\"dataframe\">\n",
       "  <thead>\n",
       "    <tr style=\"text-align: right;\">\n",
       "      <th></th>\n",
       "      <th>state</th>\n",
       "      <th>year</th>\n",
       "      <th>urate</th>\n",
       "      <th>children</th>\n",
       "      <th>nonwhite</th>\n",
       "      <th>finc</th>\n",
       "      <th>earn</th>\n",
       "      <th>age</th>\n",
       "      <th>ed</th>\n",
       "      <th>work</th>\n",
       "      <th>unearn</th>\n",
       "      <th>earncon</th>\n",
       "      <th>ANYKIDS</th>\n",
       "      <th>POST93</th>\n",
       "      <th>emp</th>\n",
       "    </tr>\n",
       "  </thead>\n",
       "  <tbody>\n",
       "    <tr>\n",
       "      <th>0</th>\n",
       "      <td>11</td>\n",
       "      <td>1991</td>\n",
       "      <td>7.6</td>\n",
       "      <td>0</td>\n",
       "      <td>1</td>\n",
       "      <td>18714.3940</td>\n",
       "      <td>18714.39400</td>\n",
       "      <td>26</td>\n",
       "      <td>10</td>\n",
       "      <td>1</td>\n",
       "      <td>0.000000</td>\n",
       "      <td>18714.39400</td>\n",
       "      <td>0</td>\n",
       "      <td>0</td>\n",
       "      <td>1</td>\n",
       "    </tr>\n",
       "    <tr>\n",
       "      <th>1</th>\n",
       "      <td>12</td>\n",
       "      <td>1991</td>\n",
       "      <td>7.2</td>\n",
       "      <td>1</td>\n",
       "      <td>0</td>\n",
       "      <td>4838.5683</td>\n",
       "      <td>471.36564</td>\n",
       "      <td>22</td>\n",
       "      <td>9</td>\n",
       "      <td>1</td>\n",
       "      <td>4.367203</td>\n",
       "      <td>471.36564</td>\n",
       "      <td>1</td>\n",
       "      <td>0</td>\n",
       "      <td>1</td>\n",
       "    </tr>\n",
       "    <tr>\n",
       "      <th>2</th>\n",
       "      <td>13</td>\n",
       "      <td>1991</td>\n",
       "      <td>6.4</td>\n",
       "      <td>2</td>\n",
       "      <td>0</td>\n",
       "      <td>8178.1938</td>\n",
       "      <td>0.00000</td>\n",
       "      <td>33</td>\n",
       "      <td>11</td>\n",
       "      <td>0</td>\n",
       "      <td>8.178194</td>\n",
       "      <td>NaN</td>\n",
       "      <td>1</td>\n",
       "      <td>0</td>\n",
       "      <td>0</td>\n",
       "    </tr>\n",
       "    <tr>\n",
       "      <th>3</th>\n",
       "      <td>14</td>\n",
       "      <td>1991</td>\n",
       "      <td>9.1</td>\n",
       "      <td>0</td>\n",
       "      <td>1</td>\n",
       "      <td>9369.5705</td>\n",
       "      <td>0.00000</td>\n",
       "      <td>43</td>\n",
       "      <td>11</td>\n",
       "      <td>0</td>\n",
       "      <td>9.369571</td>\n",
       "      <td>NaN</td>\n",
       "      <td>0</td>\n",
       "      <td>0</td>\n",
       "      <td>0</td>\n",
       "    </tr>\n",
       "    <tr>\n",
       "      <th>4</th>\n",
       "      <td>15</td>\n",
       "      <td>1991</td>\n",
       "      <td>8.6</td>\n",
       "      <td>3</td>\n",
       "      <td>1</td>\n",
       "      <td>14706.6080</td>\n",
       "      <td>14706.60800</td>\n",
       "      <td>23</td>\n",
       "      <td>7</td>\n",
       "      <td>1</td>\n",
       "      <td>0.000000</td>\n",
       "      <td>14706.60800</td>\n",
       "      <td>1</td>\n",
       "      <td>0</td>\n",
       "      <td>1</td>\n",
       "    </tr>\n",
       "  </tbody>\n",
       "</table>\n",
       "</div>"
      ],
      "text/plain": [
       "   state  year  urate  children  nonwhite        finc         earn  age  ed  \\\n",
       "0     11  1991    7.6         0         1  18714.3940  18714.39400   26  10   \n",
       "1     12  1991    7.2         1         0   4838.5683    471.36564   22   9   \n",
       "2     13  1991    6.4         2         0   8178.1938      0.00000   33  11   \n",
       "3     14  1991    9.1         0         1   9369.5705      0.00000   43  11   \n",
       "4     15  1991    8.6         3         1  14706.6080  14706.60800   23   7   \n",
       "\n",
       "   work    unearn      earncon  ANYKIDS  POST93  emp  \n",
       "0     1  0.000000  18714.39400        0       0    1  \n",
       "1     1  4.367203    471.36564        1       0    1  \n",
       "2     0  8.178194          NaN        1       0    0  \n",
       "3     0  9.369571          NaN        0       0    0  \n",
       "4     1  0.000000  14706.60800        1       0    1  "
      ]
     },
     "execution_count": 49,
     "metadata": {},
     "output_type": "execute_result"
    }
   ],
   "source": [
    "eitc['ANYKIDS'] = [1 if children > 0 else 0 for children in eitc.children]\n",
    "eitc['POST93'] = [1 if year > 1993 else 0 for year in eitc.year]\n",
    "eitc['emp'] = [1 if earn > 0 else 0 for earn in eitc.earn]\n",
    "eitc.head()"
   ]
  },
  {
   "cell_type": "code",
   "execution_count": 78,
   "metadata": {
    "collapsed": false
   },
   "outputs": [
    {
     "data": {
      "text/plain": [
       "POST93  ANYKIDS       \n",
       "0       0        count    3154.000000\n",
       "                 mean        0.575460\n",
       "                 std         0.494351\n",
       "                 min         0.000000\n",
       "                 25%         0.000000\n",
       "                 50%         1.000000\n",
       "                 75%         1.000000\n",
       "                 max         1.000000\n",
       "        1        count    4247.000000\n",
       "                 mean        0.445962\n",
       "                 std         0.497130\n",
       "                 min         0.000000\n",
       "                 25%         0.000000\n",
       "                 50%         0.000000\n",
       "                 75%         1.000000\n",
       "                 max         1.000000\n",
       "1       0        count    2773.000000\n",
       "                 mean        0.573386\n",
       "                 std         0.494674\n",
       "                 min         0.000000\n",
       "                 25%         0.000000\n",
       "                 50%         1.000000\n",
       "                 75%         1.000000\n",
       "                 max         1.000000\n",
       "        1        count    3572.000000\n",
       "                 mean        0.490761\n",
       "                 std         0.499985\n",
       "                 min         0.000000\n",
       "                 25%         0.000000\n",
       "                 50%         0.000000\n",
       "                 75%         1.000000\n",
       "                 max         1.000000\n",
       "dtype: float64"
      ]
     },
     "execution_count": 78,
     "metadata": {},
     "output_type": "execute_result"
    }
   ],
   "source": [
    "eitc.groupby(['POST93','ANYKIDS'])['work'].describe()\n"
   ]
  },
  {
   "cell_type": "code",
   "execution_count": 56,
   "metadata": {
    "collapsed": false
   },
   "outputs": [
    {
     "data": {
      "text/plain": [
       "POST93  ANYKIDS       \n",
       "0       0        count      3154.000000\n",
       "                 mean      13798.558655\n",
       "                 std       18808.726569\n",
       "                 min           0.000000\n",
       "                 25%           0.000000\n",
       "                 50%        8007.840300\n",
       "                 75%       20033.040000\n",
       "                 max      176050.170000\n",
       "        1        count      4247.000000\n",
       "                 mean       7185.022186\n",
       "                 std       13058.747396\n",
       "                 min           0.000000\n",
       "                 25%           0.000000\n",
       "                 50%         530.286340\n",
       "                 75%       10605.727000\n",
       "                 max      162443.620000\n",
       "1       0        count      2773.000000\n",
       "                 mean      13716.690362\n",
       "                 std       23825.056364\n",
       "                 min           0.000000\n",
       "                 25%           0.000000\n",
       "                 50%        7160.611900\n",
       "                 75%       18413.002000\n",
       "                 max      537880.610000\n",
       "        1        count      3572.000000\n",
       "                 mean       8771.831693\n",
       "                 std       16900.741535\n",
       "                 min           0.000000\n",
       "                 25%           0.000000\n",
       "                 50%        2081.418300\n",
       "                 75%       11584.646000\n",
       "                 max      366095.490000\n",
       "dtype: float64"
      ]
     },
     "execution_count": 56,
     "metadata": {},
     "output_type": "execute_result"
    }
   ],
   "source": [
    "eitc.groupby(['POST93','ANYKIDS'])['earn'].describe()"
   ]
  },
  {
   "cell_type": "code",
   "execution_count": 73,
   "metadata": {
    "collapsed": false
   },
   "outputs": [],
   "source": [
    "import statsmodels.api as sm\n"
   ]
  },
  {
   "cell_type": "code",
   "execution_count": 76,
   "metadata": {
    "collapsed": false
   },
   "outputs": [
    {
     "data": {
      "text/html": [
       "<table class=\"simpletable\">\n",
       "<caption>OLS Regression Results</caption>\n",
       "<tr>\n",
       "  <th>Dep. Variable:</th>          <td>earn</td>       <th>  R-squared:         </th>  <td>   0.140</td>  \n",
       "</tr>\n",
       "<tr>\n",
       "  <th>Model:</th>                   <td>OLS</td>       <th>  Adj. R-squared:    </th>  <td>   0.140</td>  \n",
       "</tr>\n",
       "<tr>\n",
       "  <th>Method:</th>             <td>Least Squares</td>  <th>  F-statistic:       </th>  <td>   1120.</td>  \n",
       "</tr>\n",
       "<tr>\n",
       "  <th>Date:</th>             <td>Fri, 11 Dec 2015</td> <th>  Prob (F-statistic):</th>   <td>  0.00</td>   \n",
       "</tr>\n",
       "<tr>\n",
       "  <th>Time:</th>                 <td>15:20:13</td>     <th>  Log-Likelihood:    </th> <td>-1.5526e+05</td>\n",
       "</tr>\n",
       "<tr>\n",
       "  <th>No. Observations:</th>      <td> 13746</td>      <th>  AIC:               </th>  <td>3.105e+05</td> \n",
       "</tr>\n",
       "<tr>\n",
       "  <th>Df Residuals:</th>          <td> 13744</td>      <th>  BIC:               </th>  <td>3.105e+05</td> \n",
       "</tr>\n",
       "<tr>\n",
       "  <th>Df Model:</th>              <td>     2</td>      <th>                     </th>      <td> </td>     \n",
       "</tr>\n",
       "<tr>\n",
       "  <th>Covariance Type:</th>      <td>nonrobust</td>    <th>                     </th>      <td> </td>     \n",
       "</tr>\n",
       "</table>\n",
       "<table class=\"simpletable\">\n",
       "<tr>\n",
       "     <td></td>        <th>coef</th>     <th>std err</th>      <th>t</th>      <th>P>|t|</th> <th>[95.0% Conf. Int.]</th> \n",
       "</tr>\n",
       "<tr>\n",
       "  <th>ANYKIDS</th> <td> 3924.7608</td> <td>  255.264</td> <td>   15.375</td> <td> 0.000</td> <td> 3424.409  4425.113</td>\n",
       "</tr>\n",
       "<tr>\n",
       "  <th>POST93</th>  <td> 8723.4231</td> <td>  283.367</td> <td>   30.785</td> <td> 0.000</td> <td> 8167.985  9278.861</td>\n",
       "</tr>\n",
       "</table>\n",
       "<table class=\"simpletable\">\n",
       "<tr>\n",
       "  <th>Omnibus:</th>       <td>16334.654</td> <th>  Durbin-Watson:     </th>  <td>   1.800</td>  \n",
       "</tr>\n",
       "<tr>\n",
       "  <th>Prob(Omnibus):</th>  <td> 0.000</td>   <th>  Jarque-Bera (JB):  </th> <td>5777154.336</td>\n",
       "</tr>\n",
       "<tr>\n",
       "  <th>Skew:</th>           <td> 5.902</td>   <th>  Prob(JB):          </th>  <td>    0.00</td>  \n",
       "</tr>\n",
       "<tr>\n",
       "  <th>Kurtosis:</th>       <td>102.737</td>  <th>  Cond. No.          </th>  <td>    1.77</td>  \n",
       "</tr>\n",
       "</table>"
      ],
      "text/plain": [
       "<class 'statsmodels.iolib.summary.Summary'>\n",
       "\"\"\"\n",
       "                            OLS Regression Results                            \n",
       "==============================================================================\n",
       "Dep. Variable:                   earn   R-squared:                       0.140\n",
       "Model:                            OLS   Adj. R-squared:                  0.140\n",
       "Method:                 Least Squares   F-statistic:                     1120.\n",
       "Date:                Fri, 11 Dec 2015   Prob (F-statistic):               0.00\n",
       "Time:                        15:20:13   Log-Likelihood:            -1.5526e+05\n",
       "No. Observations:               13746   AIC:                         3.105e+05\n",
       "Df Residuals:                   13744   BIC:                         3.105e+05\n",
       "Df Model:                           2                                         \n",
       "Covariance Type:            nonrobust                                         \n",
       "==============================================================================\n",
       "                 coef    std err          t      P>|t|      [95.0% Conf. Int.]\n",
       "------------------------------------------------------------------------------\n",
       "ANYKIDS     3924.7608    255.264     15.375      0.000      3424.409  4425.113\n",
       "POST93      8723.4231    283.367     30.785      0.000      8167.985  9278.861\n",
       "==============================================================================\n",
       "Omnibus:                    16334.654   Durbin-Watson:                   1.800\n",
       "Prob(Omnibus):                  0.000   Jarque-Bera (JB):          5777154.336\n",
       "Skew:                           5.902   Prob(JB):                         0.00\n",
       "Kurtosis:                     102.737   Cond. No.                         1.77\n",
       "==============================================================================\n",
       "\n",
       "Warnings:\n",
       "[1] Standard Errors assume that the covariance matrix of the errors is correctly specified.\n",
       "\"\"\""
      ]
     },
     "execution_count": 76,
     "metadata": {},
     "output_type": "execute_result"
    }
   ],
   "source": [
    "X = eitc[['ANYKIDS', 'POST93']]\n",
    "y = eitc.earn\n",
    "\n",
    "## fit a OLS model with intercept on TV and Radio\n",
    "est = sm.OLS(y, X).fit(intercept=True)\n",
    "\n",
    "est.summary()"
   ]
  },
  {
   "cell_type": "markdown",
   "metadata": {},
   "source": [
    "##Codebook\n",
    "\n",
    "#####state = State of Residence\n",
    "\n",
    "#####year = Year (tax year)\n",
    "\n",
    "#####urate = State Unemployment Rate\n",
    "\n",
    "#####children = Number of Children\n",
    "\n",
    "#####nonwhite = Dummy =1 if Hispanic/Black\n",
    "\n",
    "#####finc = Annual Family Income ('97 dollars)\n",
    "\n",
    "#####earn = Annual earnings ('97 dollars)\n",
    "\n",
    "#####age = Age of woman\n",
    "\n",
    "#####ed = Years of education\n",
    "\n",
    "#####work = Dummy = 1 if employed last year\n",
    "\n",
    "#####unearn = Unearned Income ('97 dollars)"
   ]
  }
 ],
 "metadata": {
  "kernelspec": {
   "display_name": "Python 2",
   "language": "python",
   "name": "python2"
  },
  "language_info": {
   "codemirror_mode": {
    "name": "ipython",
    "version": 2
   },
   "file_extension": ".py",
   "mimetype": "text/x-python",
   "name": "python",
   "nbconvert_exporter": "python",
   "pygments_lexer": "ipython2",
   "version": "2.7.10"
  }
 },
 "nbformat": 4,
 "nbformat_minor": 0
}
